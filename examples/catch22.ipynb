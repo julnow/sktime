{
 "cells": [
  {
   "cell_type": "markdown",
   "metadata": {},
   "source": [
    "# The Canonical Time-series Characteristics (catch22) transform\n",
    "\n",
    "catch22\\[1\\] is a collection of 22 time series features extracted from the 7000+ present in the _hctsa_ \\[2\\]\\[3\\] toolbox.\n",
    "A hierarchical clustering was performed on the correlation matrix of features that performed better than random chance to remove redundancy.\n",
    "These clusters were sorted by balanced accuracy using a decision tree classifier and a single feature was selected from the 22 clusters formed, taking into account balanced accuracy results, computational efficiency and interpretability.\n",
    "\n",
    "In this notebook, we will demonstrate how to use the catch22 transformer on the ItalyPowerDemand univariate and BasicMotions multivariate datasets. We also show catch22 used for classification with a random forest classifier.\n",
    "\n",
    "#### References:\n",
    "\n",
    "\\[1\\] Lubba, C. H., Sethi, S. S., Knaute, P., Schultz, S. R., Fulcher, B. D., & Jones, N. S. (2019). catch22: CAnonical Time-series CHaracteristics. Data Mining and Knowledge Discovery, 33(6), 1821-1852.\n",
    "\n",
    "\\[2\\] Fulcher, B. D., & Jones, N. S. (2017). hctsa: A computational framework for automated time-series phenotyping using massive feature extraction. Cell systems, 5(5), 527-531.\n",
    "\n",
    "\\[3\\] Fulcher, B. D., Little, M. A., & Jones, N. S. (2013). Highly comparative time-series analysis: the empirical structure of time series and their methods. Journal of the Royal Society Interface, 10(83), 20130048."
   ]
  },
  {
   "cell_type": "code",
   "execution_count": 1,
   "metadata": {},
   "outputs": [
    {
     "name": "stdout",
     "output_type": "stream",
     "text": [
      "Looking in indexes: https://srv01af2.corp.trumpf.com/artifactory/api/pypi/pypi-remote/simple\n",
      "Processing c:\\kod\\sktime\n",
      "  Installing build dependencies: started\n",
      "  Installing build dependencies: finished with status 'done'\n",
      "  Getting requirements to build wheel: started\n",
      "  Getting requirements to build wheel: finished with status 'done'\n",
      "  Installing backend dependencies: started\n",
      "  Installing backend dependencies: finished with status 'done'\n",
      "  Preparing metadata (pyproject.toml): started\n",
      "  Preparing metadata (pyproject.toml): finished with status 'done'\n",
      "Requirement already satisfied: numpy<1.27,>=1.21 in c:\\users\\nowakju\\appdata\\local\\miniforge3\\envs\\sktime\\lib\\site-packages (from sktime==0.27.0) (1.26.4)\n",
      "Requirement already satisfied: packaging in c:\\users\\nowakju\\appdata\\local\\miniforge3\\envs\\sktime\\lib\\site-packages (from sktime==0.27.0) (23.2)\n",
      "Requirement already satisfied: pandas<2.2.0,>=1.1 in c:\\users\\nowakju\\appdata\\local\\miniforge3\\envs\\sktime\\lib\\site-packages (from sktime==0.27.0) (1.5.3)\n",
      "Requirement already satisfied: scikit-base<0.8.0 in c:\\users\\nowakju\\appdata\\local\\miniforge3\\envs\\sktime\\lib\\site-packages (from sktime==0.27.0) (0.7.2)\n",
      "Requirement already satisfied: scikit-learn<1.5.0,>=0.24 in c:\\users\\nowakju\\appdata\\local\\miniforge3\\envs\\sktime\\lib\\site-packages (from sktime==0.27.0) (1.4.1.post1)\n",
      "Requirement already satisfied: scipy<2.0.0,>=1.2 in c:\\users\\nowakju\\appdata\\local\\miniforge3\\envs\\sktime\\lib\\site-packages (from sktime==0.27.0) (1.12.0)\n",
      "Requirement already satisfied: backoff in c:\\users\\nowakju\\appdata\\local\\miniforge3\\envs\\sktime\\lib\\site-packages (from sktime==0.27.0) (2.2.1)\n",
      "Requirement already satisfied: httpx in c:\\users\\nowakju\\appdata\\local\\miniforge3\\envs\\sktime\\lib\\site-packages (from sktime==0.27.0) (0.27.0)\n",
      "Requirement already satisfied: pre-commit in c:\\users\\nowakju\\appdata\\roaming\\python\\python39\\site-packages (from sktime==0.27.0) (3.6.2)\n",
      "Requirement already satisfied: pytest in c:\\users\\nowakju\\appdata\\local\\miniforge3\\envs\\sktime\\lib\\site-packages (from sktime==0.27.0) (8.0.2)\n",
      "Requirement already satisfied: pytest-cov in c:\\users\\nowakju\\appdata\\roaming\\python\\python39\\site-packages (from sktime==0.27.0) (3.0.0)\n",
      "Requirement already satisfied: pytest-randomly in c:\\users\\nowakju\\appdata\\local\\miniforge3\\envs\\sktime\\lib\\site-packages (from sktime==0.27.0) (3.15.0)\n",
      "Requirement already satisfied: pytest-timeout in c:\\users\\nowakju\\appdata\\local\\miniforge3\\envs\\sktime\\lib\\site-packages (from sktime==0.27.0) (2.2.0)\n",
      "Requirement already satisfied: pytest-xdist in c:\\users\\nowakju\\appdata\\roaming\\python\\python39\\site-packages (from sktime==0.27.0) (2.2.1)\n",
      "Requirement already satisfied: wheel in c:\\users\\nowakju\\appdata\\local\\miniforge3\\envs\\sktime\\lib\\site-packages (from sktime==0.27.0) (0.42.0)\n",
      "Requirement already satisfied: python-dateutil>=2.8.1 in c:\\users\\nowakju\\appdata\\local\\miniforge3\\envs\\sktime\\lib\\site-packages (from pandas<2.2.0,>=1.1->sktime==0.27.0) (2.8.2)\n",
      "Requirement already satisfied: pytz>=2020.1 in c:\\users\\nowakju\\appdata\\local\\miniforge3\\envs\\sktime\\lib\\site-packages (from pandas<2.2.0,>=1.1->sktime==0.27.0) (2023.4)\n",
      "Requirement already satisfied: joblib>=1.2.0 in c:\\users\\nowakju\\appdata\\local\\miniforge3\\envs\\sktime\\lib\\site-packages (from scikit-learn<1.5.0,>=0.24->sktime==0.27.0) (1.3.2)\n",
      "Requirement already satisfied: threadpoolctl>=2.0.0 in c:\\users\\nowakju\\appdata\\local\\miniforge3\\envs\\sktime\\lib\\site-packages (from scikit-learn<1.5.0,>=0.24->sktime==0.27.0) (3.3.0)\n",
      "Requirement already satisfied: anyio in c:\\users\\nowakju\\appdata\\local\\miniforge3\\envs\\sktime\\lib\\site-packages (from httpx->sktime==0.27.0) (4.3.0)\n",
      "Requirement already satisfied: certifi in c:\\users\\nowakju\\appdata\\local\\miniforge3\\envs\\sktime\\lib\\site-packages (from httpx->sktime==0.27.0) (2024.2.2)\n",
      "Requirement already satisfied: httpcore==1.* in c:\\users\\nowakju\\appdata\\local\\miniforge3\\envs\\sktime\\lib\\site-packages (from httpx->sktime==0.27.0) (1.0.4)\n",
      "Requirement already satisfied: idna in c:\\users\\nowakju\\appdata\\local\\miniforge3\\envs\\sktime\\lib\\site-packages (from httpx->sktime==0.27.0) (3.6)\n",
      "Requirement already satisfied: sniffio in c:\\users\\nowakju\\appdata\\local\\miniforge3\\envs\\sktime\\lib\\site-packages (from httpx->sktime==0.27.0) (1.3.1)\n",
      "Requirement already satisfied: h11<0.15,>=0.13 in c:\\users\\nowakju\\appdata\\local\\miniforge3\\envs\\sktime\\lib\\site-packages (from httpcore==1.*->httpx->sktime==0.27.0) (0.14.0)\n",
      "Requirement already satisfied: cfgv>=2.0.0 in c:\\users\\nowakju\\appdata\\roaming\\python\\python39\\site-packages (from pre-commit->sktime==0.27.0) (3.4.0)\n",
      "Requirement already satisfied: identify>=1.0.0 in c:\\users\\nowakju\\appdata\\roaming\\python\\python39\\site-packages (from pre-commit->sktime==0.27.0) (2.5.35)\n",
      "Requirement already satisfied: nodeenv>=0.11.1 in c:\\users\\nowakju\\appdata\\roaming\\python\\python39\\site-packages (from pre-commit->sktime==0.27.0) (1.8.0)\n",
      "Requirement already satisfied: pyyaml>=5.1 in c:\\users\\nowakju\\appdata\\local\\miniforge3\\envs\\sktime\\lib\\site-packages (from pre-commit->sktime==0.27.0) (6.0.1)\n",
      "Requirement already satisfied: virtualenv>=20.10.0 in c:\\users\\nowakju\\appdata\\roaming\\python\\python39\\site-packages (from pre-commit->sktime==0.27.0) (20.25.0)\n",
      "Requirement already satisfied: iniconfig in c:\\users\\nowakju\\appdata\\local\\miniforge3\\envs\\sktime\\lib\\site-packages (from pytest->sktime==0.27.0) (2.0.0)\n",
      "Requirement already satisfied: pluggy<2.0,>=1.3.0 in c:\\users\\nowakju\\appdata\\local\\miniforge3\\envs\\sktime\\lib\\site-packages (from pytest->sktime==0.27.0) (1.4.0)\n",
      "Requirement already satisfied: exceptiongroup>=1.0.0rc8 in c:\\users\\nowakju\\appdata\\local\\miniforge3\\envs\\sktime\\lib\\site-packages (from pytest->sktime==0.27.0) (1.2.0)\n",
      "Requirement already satisfied: tomli>=1.0.0 in c:\\users\\nowakju\\appdata\\local\\miniforge3\\envs\\sktime\\lib\\site-packages (from pytest->sktime==0.27.0) (2.0.1)\n",
      "Requirement already satisfied: colorama in c:\\users\\nowakju\\appdata\\local\\miniforge3\\envs\\sktime\\lib\\site-packages (from pytest->sktime==0.27.0) (0.4.6)\n",
      "Requirement already satisfied: coverage>=5.2.1 in c:\\users\\nowakju\\appdata\\local\\miniforge3\\envs\\sktime\\lib\\site-packages (from coverage[toml]>=5.2.1->pytest-cov->sktime==0.27.0) (7.4.3)\n",
      "Requirement already satisfied: importlib-metadata>=3.6.0 in c:\\users\\nowakju\\appdata\\local\\miniforge3\\envs\\sktime\\lib\\site-packages (from pytest-randomly->sktime==0.27.0) (7.0.1)\n",
      "Requirement already satisfied: execnet>=1.1 in c:\\users\\nowakju\\appdata\\roaming\\python\\python39\\site-packages (from pytest-xdist->sktime==0.27.0) (2.0.2)\n",
      "Requirement already satisfied: pytest-forked in c:\\users\\nowakju\\appdata\\roaming\\python\\python39\\site-packages (from pytest-xdist->sktime==0.27.0) (1.6.0)\n",
      "Requirement already satisfied: zipp>=0.5 in c:\\users\\nowakju\\appdata\\local\\miniforge3\\envs\\sktime\\lib\\site-packages (from importlib-metadata>=3.6.0->pytest-randomly->sktime==0.27.0) (3.17.0)\n",
      "Requirement already satisfied: setuptools in c:\\users\\nowakju\\appdata\\local\\miniforge3\\envs\\sktime\\lib\\site-packages (from nodeenv>=0.11.1->pre-commit->sktime==0.27.0) (69.1.1)\n",
      "Requirement already satisfied: six>=1.5 in c:\\users\\nowakju\\appdata\\local\\miniforge3\\envs\\sktime\\lib\\site-packages (from python-dateutil>=2.8.1->pandas<2.2.0,>=1.1->sktime==0.27.0) (1.16.0)\n",
      "Requirement already satisfied: distlib<1,>=0.3.7 in c:\\users\\nowakju\\appdata\\local\\miniforge3\\envs\\sktime\\lib\\site-packages (from virtualenv>=20.10.0->pre-commit->sktime==0.27.0) (0.3.8)\n",
      "Requirement already satisfied: filelock<4,>=3.12.2 in c:\\users\\nowakju\\appdata\\roaming\\python\\python39\\site-packages (from virtualenv>=20.10.0->pre-commit->sktime==0.27.0) (3.13.1)\n",
      "Requirement already satisfied: platformdirs<5,>=3.9.1 in c:\\users\\nowakju\\appdata\\local\\miniforge3\\envs\\sktime\\lib\\site-packages (from virtualenv>=20.10.0->pre-commit->sktime==0.27.0) (4.2.0)\n",
      "Requirement already satisfied: typing-extensions>=4.1 in c:\\users\\nowakju\\appdata\\local\\miniforge3\\envs\\sktime\\lib\\site-packages (from anyio->httpx->sktime==0.27.0) (4.10.0)\n",
      "Requirement already satisfied: py in c:\\users\\nowakju\\appdata\\local\\miniforge3\\envs\\sktime\\lib\\site-packages (from pytest-forked->pytest-xdist->sktime==0.27.0) (1.11.0)\n",
      "Building wheels for collected packages: sktime\n",
      "  Building wheel for sktime (pyproject.toml): started\n",
      "  Building wheel for sktime (pyproject.toml): still running...\n",
      "  Building wheel for sktime (pyproject.toml): finished with status 'done'\n",
      "  Created wheel for sktime: filename=sktime-0.27.0-py3-none-any.whl size=27742555 sha256=bb06b61f9b34bd147ca38de38cbfcd5dfdf2f05a03af1e408e12cf5c8ad14e66\n",
      "  Stored in directory: C:\\Users\\nowakju\\AppData\\Local\\Temp\\pip-ephem-wheel-cache-looxlmvx\\wheels\\dd\\5e\\5d\\e2679483802bc8e7237c5aae9f7a2da9ccdaaeaeb066d861f5\n",
      "Successfully built sktime\n",
      "Installing collected packages: sktime\n",
      "  Attempting uninstall: sktime\n",
      "    Found existing installation: sktime 0.27.0\n",
      "    Uninstalling sktime-0.27.0:\n",
      "      Successfully uninstalled sktime-0.27.0\n",
      "Successfully installed sktime-0.27.0\n",
      "Note: you may need to restart the kernel to use updated packages.\n"
     ]
    }
   ],
   "source": [
    "%pip install ..[dev]"
   ]
  },
  {
   "cell_type": "markdown",
   "metadata": {},
   "source": [
    "## 1. Imports"
   ]
  },
  {
   "cell_type": "code",
   "execution_count": 2,
   "metadata": {
    "execution": {
     "iopub.execute_input": "2020-12-19T14:30:07.306937Z",
     "iopub.status.busy": "2020-12-19T14:30:07.306390Z",
     "iopub.status.idle": "2020-12-19T14:30:08.036353Z",
     "shell.execute_reply": "2020-12-19T14:30:08.036857Z"
    }
   },
   "outputs": [],
   "source": [
    "from sklearn import metrics\n",
    "\n",
    "from sktime.classification.feature_based import Catch22Classifier\n",
    "from sktime.datasets import load_basic_motions, load_italy_power_demand\n",
    "from sktime.transformations.panel.catch22 import Catch22"
   ]
  },
  {
   "cell_type": "markdown",
   "metadata": {},
   "source": [
    "## 2. Load data"
   ]
  },
  {
   "cell_type": "code",
   "execution_count": 3,
   "metadata": {
    "execution": {
     "iopub.execute_input": "2020-12-19T14:30:08.041533Z",
     "iopub.status.busy": "2020-12-19T14:30:08.041060Z",
     "iopub.status.idle": "2020-12-19T14:30:08.210768Z",
     "shell.execute_reply": "2020-12-19T14:30:08.211258Z"
    }
   },
   "outputs": [
    {
     "name": "stdout",
     "output_type": "stream",
     "text": [
      "(67, 1) (67,) (50, 1) (50,)\n",
      "(40, 6) (40,) (40, 6) (40,)\n"
     ]
    }
   ],
   "source": [
    "IPD_X_train, IPD_y_train = load_italy_power_demand(split=\"train\", return_X_y=True)\n",
    "IPD_X_test, IPD_y_test = load_italy_power_demand(split=\"test\", return_X_y=True)\n",
    "IPD_X_test = IPD_X_test[:50]\n",
    "IPD_y_test = IPD_y_test[:50]\n",
    "\n",
    "print(IPD_X_train.shape, IPD_y_train.shape, IPD_X_test.shape, IPD_y_test.shape)\n",
    "\n",
    "BM_X_train, BM_y_train = load_basic_motions(split=\"train\", return_X_y=True)\n",
    "BM_X_test, BM_y_test = load_basic_motions(split=\"test\", return_X_y=True)\n",
    "\n",
    "print(BM_X_train.shape, BM_y_train.shape, BM_X_test.shape, BM_y_test.shape)"
   ]
  },
  {
   "cell_type": "markdown",
   "metadata": {},
   "source": [
    "## 3. catch22 transform\n",
    "\n",
    "### Univariate\n",
    "\n",
    "The catch22 features are provided in the form of a transformer, `Catch22`.\n",
    "From this the transformed data can be used for a variety of time series analysis tasks.\n",
    "Please note, that Catch22 doesn't take labels (`y`) into consideration in the `fit(x, y=None)` method."
   ]
  },
  {
   "cell_type": "code",
   "execution_count": 4,
   "metadata": {
    "execution": {
     "iopub.execute_input": "2020-12-19T14:30:08.215545Z",
     "iopub.status.busy": "2020-12-19T14:30:08.215049Z",
     "iopub.status.idle": "2020-12-19T14:30:08.222937Z",
     "shell.execute_reply": "2020-12-19T14:30:08.223422Z"
    }
   },
   "outputs": [
    {
     "data": {
      "text/html": [
       "<style>#sk-64906b7c-6c88-4cd3-ae9f-8fb162a77b18 {color: black;background-color: white;}#sk-64906b7c-6c88-4cd3-ae9f-8fb162a77b18 pre{padding: 0;}#sk-64906b7c-6c88-4cd3-ae9f-8fb162a77b18 div.sk-toggleable {background-color: white;}#sk-64906b7c-6c88-4cd3-ae9f-8fb162a77b18 label.sk-toggleable__label {cursor: pointer;display: block;width: 100%;margin-bottom: 0;padding: 0.3em;box-sizing: border-box;text-align: center;}#sk-64906b7c-6c88-4cd3-ae9f-8fb162a77b18 label.sk-toggleable__label-arrow:before {content: \"▸\";float: left;margin-right: 0.25em;color: #696969;}#sk-64906b7c-6c88-4cd3-ae9f-8fb162a77b18 label.sk-toggleable__label-arrow:hover:before {color: black;}#sk-64906b7c-6c88-4cd3-ae9f-8fb162a77b18 div.sk-estimator:hover label.sk-toggleable__label-arrow:before {color: black;}#sk-64906b7c-6c88-4cd3-ae9f-8fb162a77b18 div.sk-toggleable__content {max-height: 0;max-width: 0;overflow: hidden;text-align: left;background-color: #f0f8ff;}#sk-64906b7c-6c88-4cd3-ae9f-8fb162a77b18 div.sk-toggleable__content pre {margin: 0.2em;color: black;border-radius: 0.25em;background-color: #f0f8ff;}#sk-64906b7c-6c88-4cd3-ae9f-8fb162a77b18 input.sk-toggleable__control:checked~div.sk-toggleable__content {max-height: 200px;max-width: 100%;overflow: auto;}#sk-64906b7c-6c88-4cd3-ae9f-8fb162a77b18 input.sk-toggleable__control:checked~label.sk-toggleable__label-arrow:before {content: \"▾\";}#sk-64906b7c-6c88-4cd3-ae9f-8fb162a77b18 div.sk-estimator input.sk-toggleable__control:checked~label.sk-toggleable__label {background-color: #d4ebff;}#sk-64906b7c-6c88-4cd3-ae9f-8fb162a77b18 div.sk-label input.sk-toggleable__control:checked~label.sk-toggleable__label {background-color: #d4ebff;}#sk-64906b7c-6c88-4cd3-ae9f-8fb162a77b18 input.sk-hidden--visually {border: 0;clip: rect(1px 1px 1px 1px);clip: rect(1px, 1px, 1px, 1px);height: 1px;margin: -1px;overflow: hidden;padding: 0;position: absolute;width: 1px;}#sk-64906b7c-6c88-4cd3-ae9f-8fb162a77b18 div.sk-estimator {font-family: monospace;background-color: #f0f8ff;border: 1px dotted black;border-radius: 0.25em;box-sizing: border-box;margin-bottom: 0.5em;}#sk-64906b7c-6c88-4cd3-ae9f-8fb162a77b18 div.sk-estimator:hover {background-color: #d4ebff;}#sk-64906b7c-6c88-4cd3-ae9f-8fb162a77b18 div.sk-parallel-item::after {content: \"\";width: 100%;border-bottom: 1px solid gray;flex-grow: 1;}#sk-64906b7c-6c88-4cd3-ae9f-8fb162a77b18 div.sk-label:hover label.sk-toggleable__label {background-color: #d4ebff;}#sk-64906b7c-6c88-4cd3-ae9f-8fb162a77b18 div.sk-serial::before {content: \"\";position: absolute;border-left: 1px solid gray;box-sizing: border-box;top: 2em;bottom: 0;left: 50%;}#sk-64906b7c-6c88-4cd3-ae9f-8fb162a77b18 div.sk-serial {display: flex;flex-direction: column;align-items: center;background-color: white;padding-right: 0.2em;padding-left: 0.2em;}#sk-64906b7c-6c88-4cd3-ae9f-8fb162a77b18 div.sk-item {z-index: 1;}#sk-64906b7c-6c88-4cd3-ae9f-8fb162a77b18 div.sk-parallel {display: flex;align-items: stretch;justify-content: center;background-color: white;}#sk-64906b7c-6c88-4cd3-ae9f-8fb162a77b18 div.sk-parallel::before {content: \"\";position: absolute;border-left: 1px solid gray;box-sizing: border-box;top: 2em;bottom: 0;left: 50%;}#sk-64906b7c-6c88-4cd3-ae9f-8fb162a77b18 div.sk-parallel-item {display: flex;flex-direction: column;position: relative;background-color: white;}#sk-64906b7c-6c88-4cd3-ae9f-8fb162a77b18 div.sk-parallel-item:first-child::after {align-self: flex-end;width: 50%;}#sk-64906b7c-6c88-4cd3-ae9f-8fb162a77b18 div.sk-parallel-item:last-child::after {align-self: flex-start;width: 50%;}#sk-64906b7c-6c88-4cd3-ae9f-8fb162a77b18 div.sk-parallel-item:only-child::after {width: 0;}#sk-64906b7c-6c88-4cd3-ae9f-8fb162a77b18 div.sk-dashed-wrapped {border: 1px dashed gray;margin: 0 0.4em 0.5em 0.4em;box-sizing: border-box;padding-bottom: 0.4em;background-color: white;position: relative;}#sk-64906b7c-6c88-4cd3-ae9f-8fb162a77b18 div.sk-label label {font-family: monospace;font-weight: bold;background-color: white;display: inline-block;line-height: 1.2em;}#sk-64906b7c-6c88-4cd3-ae9f-8fb162a77b18 div.sk-label-container {position: relative;z-index: 2;text-align: center;}#sk-64906b7c-6c88-4cd3-ae9f-8fb162a77b18 div.sk-container {/* jupyter's `normalize.less` sets `[hidden] { display: none; }` but bootstrap.min.css set `[hidden] { display: none !important; }` so we also need the `!important` here to be able to override the default hidden behavior on the sphinx rendered scikit-learn.org. See: https://github.com/scikit-learn/scikit-learn/issues/21755 */display: inline-block !important;position: relative;}#sk-64906b7c-6c88-4cd3-ae9f-8fb162a77b18 div.sk-text-repr-fallback {display: none;}</style><div id='sk-64906b7c-6c88-4cd3-ae9f-8fb162a77b18' class=\"sk-top-container\"><div class=\"sk-text-repr-fallback\"><pre>Catch22()</pre><b>Please rerun this cell to show the HTML repr or trust the notebook.</b></div><div class=\"sk-container\" hidden><div class='sk-item'><div class=\"sk-estimator sk-toggleable\"><input class=\"sk-toggleable__control sk-hidden--visually\" id=UUID('c701e508-94f1-4ce4-a74a-4948421543d8') type=\"checkbox\" checked><label for=UUID('c701e508-94f1-4ce4-a74a-4948421543d8') class='sk-toggleable__label sk-toggleable__label-arrow'>Catch22</label><div class=\"sk-toggleable__content\"><pre>Catch22()</pre></div></div></div></div></div>"
      ],
      "text/plain": [
       "Catch22()"
      ]
     },
     "execution_count": 4,
     "metadata": {},
     "output_type": "execute_result"
    }
   ],
   "source": [
    "c22_uv = Catch22()\n",
    "c22_uv.fit(IPD_X_train, IPD_y_train)"
   ]
  },
  {
   "cell_type": "code",
   "execution_count": 5,
   "metadata": {
    "execution": {
     "iopub.execute_input": "2020-12-19T14:30:08.226714Z",
     "iopub.status.busy": "2020-12-19T14:30:08.226142Z",
     "iopub.status.idle": "2020-12-19T14:30:08.252491Z",
     "shell.execute_reply": "2020-12-19T14:30:08.252970Z"
    },
    "pycharm": {
     "name": "#%%\n"
    }
   },
   "outputs": [
    {
     "name": "stdout",
     "output_type": "stream",
     "text": [
      "         0         1     2         3         4    5     6         7   \\\n",
      "0  1.158630 -0.217227   8.0  0.291667 -0.625000  3.0   6.0  0.468052   \n",
      "1  0.918162 -0.214762  15.0  0.208333 -0.666667  4.0   8.0  0.702775   \n",
      "2 -0.273180 -0.085856   4.0  0.875000  0.250000  2.0   5.0  0.310567   \n",
      "3  0.048411 -0.450080  13.0  0.166667 -0.625000  4.0  10.0  0.804047   \n",
      "4  0.426379  0.572566  16.0  0.291667 -0.666667  4.0   7.0  0.675485   \n",
      "\n",
      "         8         9   ...   12        13   14        15        16        17  \\\n",
      "0  0.589049  0.836755  ...  3.0  1.000000  5.0  1.778748  0.750000  0.240598   \n",
      "1  0.196350  0.666160  ...  4.0  0.869565  5.0  1.730238  0.500000  0.388217   \n",
      "2  0.589049  0.865073  ...  2.0  0.913043  5.0  1.836012  0.666667  0.089104   \n",
      "3  0.196350  0.648309  ...  4.0  0.869565  6.0  1.605420  0.666667  0.332436   \n",
      "4  0.196350  0.657946  ...  4.0  0.913043  6.0  1.730238  0.500000  0.318405   \n",
      "\n",
      "   18  19        20   21  \n",
      "0 NaN NaN  0.040000  0.0  \n",
      "1 NaN NaN  0.111111  0.0  \n",
      "2 NaN NaN  0.034014  0.0  \n",
      "3 NaN NaN  0.111111  0.0  \n",
      "4 NaN NaN  0.111111  0.0  \n",
      "\n",
      "[5 rows x 22 columns]\n"
     ]
    }
   ],
   "source": [
    "transformed_data_uv = c22_uv.transform(IPD_X_train)\n",
    "print(transformed_data_uv.head())"
   ]
  },
  {
   "cell_type": "markdown",
   "metadata": {},
   "source": [
    "### Multivariate\n",
    "\n",
    "Transformation of multivariate data is supported by `Catch22`.\n",
    "The default procedure will concatenate each column prior to transformation.\n",
    "We can also set specific column names, e.g., `\"short_str_feat\"` which will show short name of the feauture in the column name."
   ]
  },
  {
   "cell_type": "code",
   "execution_count": 6,
   "metadata": {
    "execution": {
     "iopub.execute_input": "2020-12-19T14:30:08.264541Z",
     "iopub.status.busy": "2020-12-19T14:30:08.264050Z",
     "iopub.status.idle": "2020-12-19T14:30:08.266022Z",
     "shell.execute_reply": "2020-12-19T14:30:08.266517Z"
    },
    "pycharm": {
     "name": "#%%\n"
    }
   },
   "outputs": [
    {
     "data": {
      "text/html": [
       "<style>#sk-9c735c18-0730-4986-accb-5f933675f857 {color: black;background-color: white;}#sk-9c735c18-0730-4986-accb-5f933675f857 pre{padding: 0;}#sk-9c735c18-0730-4986-accb-5f933675f857 div.sk-toggleable {background-color: white;}#sk-9c735c18-0730-4986-accb-5f933675f857 label.sk-toggleable__label {cursor: pointer;display: block;width: 100%;margin-bottom: 0;padding: 0.3em;box-sizing: border-box;text-align: center;}#sk-9c735c18-0730-4986-accb-5f933675f857 label.sk-toggleable__label-arrow:before {content: \"▸\";float: left;margin-right: 0.25em;color: #696969;}#sk-9c735c18-0730-4986-accb-5f933675f857 label.sk-toggleable__label-arrow:hover:before {color: black;}#sk-9c735c18-0730-4986-accb-5f933675f857 div.sk-estimator:hover label.sk-toggleable__label-arrow:before {color: black;}#sk-9c735c18-0730-4986-accb-5f933675f857 div.sk-toggleable__content {max-height: 0;max-width: 0;overflow: hidden;text-align: left;background-color: #f0f8ff;}#sk-9c735c18-0730-4986-accb-5f933675f857 div.sk-toggleable__content pre {margin: 0.2em;color: black;border-radius: 0.25em;background-color: #f0f8ff;}#sk-9c735c18-0730-4986-accb-5f933675f857 input.sk-toggleable__control:checked~div.sk-toggleable__content {max-height: 200px;max-width: 100%;overflow: auto;}#sk-9c735c18-0730-4986-accb-5f933675f857 input.sk-toggleable__control:checked~label.sk-toggleable__label-arrow:before {content: \"▾\";}#sk-9c735c18-0730-4986-accb-5f933675f857 div.sk-estimator input.sk-toggleable__control:checked~label.sk-toggleable__label {background-color: #d4ebff;}#sk-9c735c18-0730-4986-accb-5f933675f857 div.sk-label input.sk-toggleable__control:checked~label.sk-toggleable__label {background-color: #d4ebff;}#sk-9c735c18-0730-4986-accb-5f933675f857 input.sk-hidden--visually {border: 0;clip: rect(1px 1px 1px 1px);clip: rect(1px, 1px, 1px, 1px);height: 1px;margin: -1px;overflow: hidden;padding: 0;position: absolute;width: 1px;}#sk-9c735c18-0730-4986-accb-5f933675f857 div.sk-estimator {font-family: monospace;background-color: #f0f8ff;border: 1px dotted black;border-radius: 0.25em;box-sizing: border-box;margin-bottom: 0.5em;}#sk-9c735c18-0730-4986-accb-5f933675f857 div.sk-estimator:hover {background-color: #d4ebff;}#sk-9c735c18-0730-4986-accb-5f933675f857 div.sk-parallel-item::after {content: \"\";width: 100%;border-bottom: 1px solid gray;flex-grow: 1;}#sk-9c735c18-0730-4986-accb-5f933675f857 div.sk-label:hover label.sk-toggleable__label {background-color: #d4ebff;}#sk-9c735c18-0730-4986-accb-5f933675f857 div.sk-serial::before {content: \"\";position: absolute;border-left: 1px solid gray;box-sizing: border-box;top: 2em;bottom: 0;left: 50%;}#sk-9c735c18-0730-4986-accb-5f933675f857 div.sk-serial {display: flex;flex-direction: column;align-items: center;background-color: white;padding-right: 0.2em;padding-left: 0.2em;}#sk-9c735c18-0730-4986-accb-5f933675f857 div.sk-item {z-index: 1;}#sk-9c735c18-0730-4986-accb-5f933675f857 div.sk-parallel {display: flex;align-items: stretch;justify-content: center;background-color: white;}#sk-9c735c18-0730-4986-accb-5f933675f857 div.sk-parallel::before {content: \"\";position: absolute;border-left: 1px solid gray;box-sizing: border-box;top: 2em;bottom: 0;left: 50%;}#sk-9c735c18-0730-4986-accb-5f933675f857 div.sk-parallel-item {display: flex;flex-direction: column;position: relative;background-color: white;}#sk-9c735c18-0730-4986-accb-5f933675f857 div.sk-parallel-item:first-child::after {align-self: flex-end;width: 50%;}#sk-9c735c18-0730-4986-accb-5f933675f857 div.sk-parallel-item:last-child::after {align-self: flex-start;width: 50%;}#sk-9c735c18-0730-4986-accb-5f933675f857 div.sk-parallel-item:only-child::after {width: 0;}#sk-9c735c18-0730-4986-accb-5f933675f857 div.sk-dashed-wrapped {border: 1px dashed gray;margin: 0 0.4em 0.5em 0.4em;box-sizing: border-box;padding-bottom: 0.4em;background-color: white;position: relative;}#sk-9c735c18-0730-4986-accb-5f933675f857 div.sk-label label {font-family: monospace;font-weight: bold;background-color: white;display: inline-block;line-height: 1.2em;}#sk-9c735c18-0730-4986-accb-5f933675f857 div.sk-label-container {position: relative;z-index: 2;text-align: center;}#sk-9c735c18-0730-4986-accb-5f933675f857 div.sk-container {/* jupyter's `normalize.less` sets `[hidden] { display: none; }` but bootstrap.min.css set `[hidden] { display: none !important; }` so we also need the `!important` here to be able to override the default hidden behavior on the sphinx rendered scikit-learn.org. See: https://github.com/scikit-learn/scikit-learn/issues/21755 */display: inline-block !important;position: relative;}#sk-9c735c18-0730-4986-accb-5f933675f857 div.sk-text-repr-fallback {display: none;}</style><div id='sk-9c735c18-0730-4986-accb-5f933675f857' class=\"sk-top-container\"><div class=\"sk-text-repr-fallback\"><pre>Catch22(col_names=&#x27;short_str_feat&#x27;)</pre><b>Please rerun this cell to show the HTML repr or trust the notebook.</b></div><div class=\"sk-container\" hidden><div class='sk-item'><div class=\"sk-estimator sk-toggleable\"><input class=\"sk-toggleable__control sk-hidden--visually\" id=UUID('f47445b0-9683-410c-b369-17136dff67c7') type=\"checkbox\" checked><label for=UUID('f47445b0-9683-410c-b369-17136dff67c7') class='sk-toggleable__label sk-toggleable__label-arrow'>Catch22</label><div class=\"sk-toggleable__content\"><pre>Catch22(col_names=&#x27;short_str_feat&#x27;)</pre></div></div></div></div></div>"
      ],
      "text/plain": [
       "Catch22(col_names='short_str_feat')"
      ]
     },
     "execution_count": 6,
     "metadata": {},
     "output_type": "execute_result"
    }
   ],
   "source": [
    "c22_mv = Catch22(col_names=\"short_str_feat\")\n",
    "c22_mv.fit(BM_X_train, BM_y_train)"
   ]
  },
  {
   "cell_type": "code",
   "execution_count": 7,
   "metadata": {
    "execution": {
     "iopub.execute_input": "2020-12-19T14:30:08.271483Z",
     "iopub.status.busy": "2020-12-19T14:30:08.270986Z",
     "iopub.status.idle": "2020-12-19T14:30:08.413472Z",
     "shell.execute_reply": "2020-12-19T14:30:08.413974Z"
    },
    "pycharm": {
     "name": "#%%\n"
    }
   },
   "outputs": [
    {
     "name": "stdout",
     "output_type": "stream",
     "text": [
      "   dim_0__mode_5  dim_0__mode_10  dim_0__stretch_decreasing  \\\n",
      "0      -0.140988       -0.268073                        6.0   \n",
      "1      -0.387256       -0.126246                        6.0   \n",
      "2       0.028412       -0.224988                        9.0   \n",
      "3      -0.147338       -0.199523                        8.0   \n",
      "4      -0.217645       -0.252015                        7.0   \n",
      "\n",
      "   dim_0__outlier_timing_pos  dim_0__outlier_timing_neg  dim_0__acf_timescale  \\\n",
      "0                     -0.890                      0.160                   2.0   \n",
      "1                     -0.920                     -0.600                   2.0   \n",
      "2                     -0.335                     -0.045                   1.0   \n",
      "3                     -0.540                      0.180                   1.0   \n",
      "4                     -0.130                      0.020                   1.0   \n",
      "\n",
      "   dim_0__acf_first_min  dim_0__centroid_freq  dim_0__low_freq_power  \\\n",
      "0                   3.0              0.042638               0.736311   \n",
      "1                   4.0              0.269591               0.490874   \n",
      "2                   3.0              0.036650               1.030835   \n",
      "3                   5.0              0.013833               1.030835   \n",
      "4                   6.0              0.008072               0.883573   \n",
      "\n",
      "   dim_0__forecast_error  ...  dim_5__ami_timescale  dim_5__high_fluctuation  \\\n",
      "0               0.314500  ...                   2.0                 0.707071   \n",
      "1               0.614552  ...                   2.0                 0.727273   \n",
      "2               0.352408  ...                   2.0                 0.818182   \n",
      "3               0.212988  ...                   2.0                 0.717172   \n",
      "4               0.150597  ...                   2.0                 0.707071   \n",
      "\n",
      "   dim_5__stretch_high  dim_5__rs_range  dim_5__whiten_timescale  \\\n",
      "0                  7.0         1.907929                     1.00   \n",
      "1                  6.0         1.875354                     0.50   \n",
      "2                  7.0         1.789838                     0.75   \n",
      "3                  6.0         1.904917                     1.00   \n",
      "4                  7.0         1.880930                     1.00   \n",
      "\n",
      "   dim_5__embedding_dist  dim_5__dfa  dim_5__rs_range  \\\n",
      "0               0.658286    0.828571         0.228571   \n",
      "1               0.206944    0.600000         0.257143   \n",
      "2               0.791912    0.828571         0.228571   \n",
      "3               1.191592    0.600000         0.171429   \n",
      "4               3.141568    0.800000         0.200000   \n",
      "\n",
      "   dim_5__transition_matrix  dim_5__periodicity  \n",
      "0                  0.012550                 9.0  \n",
      "1                  0.028935                 9.0  \n",
      "2                  0.054977                11.0  \n",
      "3                  0.015611                 9.0  \n",
      "4                  0.002449                10.0  \n",
      "\n",
      "[5 rows x 132 columns]\n"
     ]
    }
   ],
   "source": [
    "transformed_data_mv = c22_mv.transform(BM_X_train)\n",
    "print(transformed_data_mv.head())"
   ]
  },
  {
   "cell_type": "markdown",
   "metadata": {},
   "source": [
    "## 4. catch22 Forest Classifier\n",
    "\n",
    "For classification tasks the default classifier to use with the catch22 features is random forest classifier.\n",
    "An implementation making use of the `RandomForestClassifier` from sklearn built on catch22 features is provided in the form on the `Catch22Classifier` for ease of use."
   ]
  },
  {
   "cell_type": "code",
   "execution_count": null,
   "metadata": {
    "execution": {
     "iopub.execute_input": "2020-12-19T14:30:08.431962Z",
     "iopub.status.busy": "2020-12-19T14:30:08.419431Z",
     "iopub.status.idle": "2020-12-19T14:30:08.535295Z",
     "shell.execute_reply": "2020-12-19T14:30:08.535836Z"
    }
   },
   "outputs": [],
   "source": [
    "c22f = Catch22Classifier(random_state=0)\n",
    "c22f.fit(IPD_X_train, IPD_y_train)"
   ]
  },
  {
   "cell_type": "code",
   "execution_count": null,
   "metadata": {
    "execution": {
     "iopub.execute_input": "2020-12-19T14:30:08.553299Z",
     "iopub.status.busy": "2020-12-19T14:30:08.552508Z",
     "iopub.status.idle": "2020-12-19T14:30:08.561331Z",
     "shell.execute_reply": "2020-12-19T14:30:08.561821Z"
    }
   },
   "outputs": [],
   "source": [
    "c22f_preds = c22f.predict(IPD_X_test)\n",
    "print(\"C22F Accuracy: \" + str(metrics.accuracy_score(IPD_y_test, c22f_preds)))"
   ]
  }
 ],
 "metadata": {
  "kernelspec": {
   "display_name": "Python 3",
   "language": "python",
   "name": "python3"
  },
  "language_info": {
   "codemirror_mode": {
    "name": "ipython",
    "version": 3
   },
   "file_extension": ".py",
   "mimetype": "text/x-python",
   "name": "python",
   "nbconvert_exporter": "python",
   "pygments_lexer": "ipython3",
   "version": "3.9.18"
  },
  "toc": {
   "base_numbering": 1,
   "nav_menu": {},
   "number_sections": true,
   "sideBar": true,
   "skip_h1_title": false,
   "title_cell": "Table of Contents",
   "title_sidebar": "Contents",
   "toc_cell": false,
   "toc_position": {},
   "toc_section_display": true,
   "toc_window_display": false
  }
 },
 "nbformat": 4,
 "nbformat_minor": 2
}
